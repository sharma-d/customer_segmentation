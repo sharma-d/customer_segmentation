{
 "cells": [
  {
   "cell_type": "markdown",
   "metadata": {},
   "source": [
    "### Part 6: Interactive Cluster Analysis"
   ]
  },
  {
   "cell_type": "code",
   "execution_count": 1,
   "metadata": {},
   "outputs": [],
   "source": [
    "import pandas as pd  \n",
    "import numpy as np\n",
    "\n",
    "import plotly.graph_objs as go"
   ]
  },
  {
   "cell_type": "code",
   "execution_count": 2,
   "metadata": {},
   "outputs": [],
   "source": [
    "features = [\n",
    "     #'Channel',\n",
    "     #'Region',\n",
    "     'Fresh',\n",
    "     'Milk',\n",
    "     'Grocery',\n",
    "     'Frozen',\n",
    "     'Detergent',\n",
    "     'Deli']"
   ]
  },
  {
   "cell_type": "code",
   "execution_count": 3,
   "metadata": {},
   "outputs": [],
   "source": [
    "df = pd.read_csv(r'C:\\Users\\hema-sunroom\\Desktop\\customer_segmentation/data_with_clusters.csv', index_col = 0)\n",
    "data = np.load(r'C:\\Users\\hema-sunroom\\Desktop\\customer_segmentation/training_data.npy')"
   ]
  },
  {
   "cell_type": "code",
   "execution_count": 4,
   "metadata": {},
   "outputs": [
    {
     "data": {
      "text/html": [
       "<div>\n",
       "<style scoped>\n",
       "    .dataframe tbody tr th:only-of-type {\n",
       "        vertical-align: middle;\n",
       "    }\n",
       "\n",
       "    .dataframe tbody tr th {\n",
       "        vertical-align: top;\n",
       "    }\n",
       "\n",
       "    .dataframe thead th {\n",
       "        text-align: right;\n",
       "    }\n",
       "</style>\n",
       "<table border=\"1\" class=\"dataframe\">\n",
       "  <thead>\n",
       "    <tr style=\"text-align: right;\">\n",
       "      <th></th>\n",
       "      <th>Channel</th>\n",
       "      <th>Region</th>\n",
       "      <th>Fresh</th>\n",
       "      <th>Milk</th>\n",
       "      <th>Grocery</th>\n",
       "      <th>Frozen</th>\n",
       "      <th>Detergent</th>\n",
       "      <th>Deli</th>\n",
       "      <th>x_kpca_poly</th>\n",
       "      <th>y_kpca_poly</th>\n",
       "      <th>x_kpca_rbf</th>\n",
       "      <th>y_kpca_rbf</th>\n",
       "      <th>x_kpca_cos</th>\n",
       "      <th>y_kpca_cos</th>\n",
       "      <th>cluster_kpca_cos</th>\n",
       "    </tr>\n",
       "  </thead>\n",
       "  <tbody>\n",
       "    <tr>\n",
       "      <th>0</th>\n",
       "      <td>Retail</td>\n",
       "      <td>Other</td>\n",
       "      <td>12669</td>\n",
       "      <td>9656</td>\n",
       "      <td>7561</td>\n",
       "      <td>214</td>\n",
       "      <td>2674</td>\n",
       "      <td>1338</td>\n",
       "      <td>-0.298146</td>\n",
       "      <td>-0.307672</td>\n",
       "      <td>0.078374</td>\n",
       "      <td>-0.173115</td>\n",
       "      <td>0.504789</td>\n",
       "      <td>0.009622</td>\n",
       "      <td>3</td>\n",
       "    </tr>\n",
       "    <tr>\n",
       "      <th>1</th>\n",
       "      <td>Retail</td>\n",
       "      <td>Other</td>\n",
       "      <td>7057</td>\n",
       "      <td>9810</td>\n",
       "      <td>9568</td>\n",
       "      <td>1762</td>\n",
       "      <td>3293</td>\n",
       "      <td>1776</td>\n",
       "      <td>-0.272613</td>\n",
       "      <td>-0.248762</td>\n",
       "      <td>0.185813</td>\n",
       "      <td>-0.307415</td>\n",
       "      <td>0.889941</td>\n",
       "      <td>-0.262833</td>\n",
       "      <td>1</td>\n",
       "    </tr>\n",
       "    <tr>\n",
       "      <th>2</th>\n",
       "      <td>Retail</td>\n",
       "      <td>Other</td>\n",
       "      <td>6353</td>\n",
       "      <td>8808</td>\n",
       "      <td>7684</td>\n",
       "      <td>2405</td>\n",
       "      <td>3516</td>\n",
       "      <td>7844</td>\n",
       "      <td>0.557870</td>\n",
       "      <td>-0.356102</td>\n",
       "      <td>0.341702</td>\n",
       "      <td>0.075048</td>\n",
       "      <td>0.473994</td>\n",
       "      <td>0.235687</td>\n",
       "      <td>1</td>\n",
       "    </tr>\n",
       "    <tr>\n",
       "      <th>3</th>\n",
       "      <td>HotelRestCafe</td>\n",
       "      <td>Other</td>\n",
       "      <td>13265</td>\n",
       "      <td>1196</td>\n",
       "      <td>4221</td>\n",
       "      <td>6404</td>\n",
       "      <td>507</td>\n",
       "      <td>1788</td>\n",
       "      <td>-0.263419</td>\n",
       "      <td>-0.454023</td>\n",
       "      <td>-0.253304</td>\n",
       "      <td>0.250352</td>\n",
       "      <td>-0.618611</td>\n",
       "      <td>0.370131</td>\n",
       "      <td>0</td>\n",
       "    </tr>\n",
       "    <tr>\n",
       "      <th>4</th>\n",
       "      <td>Retail</td>\n",
       "      <td>Other</td>\n",
       "      <td>22615</td>\n",
       "      <td>5410</td>\n",
       "      <td>7198</td>\n",
       "      <td>3915</td>\n",
       "      <td>1777</td>\n",
       "      <td>5185</td>\n",
       "      <td>0.126922</td>\n",
       "      <td>-0.432733</td>\n",
       "      <td>0.136617</td>\n",
       "      <td>0.375279</td>\n",
       "      <td>0.068900</td>\n",
       "      <td>0.861829</td>\n",
       "      <td>2</td>\n",
       "    </tr>\n",
       "  </tbody>\n",
       "</table>\n",
       "</div>"
      ],
      "text/plain": [
       "         Channel Region  Fresh  Milk  Grocery  Frozen  Detergent  Deli  \\\n",
       "0         Retail  Other  12669  9656     7561     214       2674  1338   \n",
       "1         Retail  Other   7057  9810     9568    1762       3293  1776   \n",
       "2         Retail  Other   6353  8808     7684    2405       3516  7844   \n",
       "3  HotelRestCafe  Other  13265  1196     4221    6404        507  1788   \n",
       "4         Retail  Other  22615  5410     7198    3915       1777  5185   \n",
       "\n",
       "   x_kpca_poly  y_kpca_poly  x_kpca_rbf  y_kpca_rbf  x_kpca_cos  y_kpca_cos  \\\n",
       "0    -0.298146    -0.307672    0.078374   -0.173115    0.504789    0.009622   \n",
       "1    -0.272613    -0.248762    0.185813   -0.307415    0.889941   -0.262833   \n",
       "2     0.557870    -0.356102    0.341702    0.075048    0.473994    0.235687   \n",
       "3    -0.263419    -0.454023   -0.253304    0.250352   -0.618611    0.370131   \n",
       "4     0.126922    -0.432733    0.136617    0.375279    0.068900    0.861829   \n",
       "\n",
       "   cluster_kpca_cos  \n",
       "0                 3  \n",
       "1                 1  \n",
       "2                 1  \n",
       "3                 0  \n",
       "4                 2  "
      ]
     },
     "execution_count": 4,
     "metadata": {},
     "output_type": "execute_result"
    }
   ],
   "source": [
    "df.head()"
   ]
  },
  {
   "cell_type": "markdown",
   "metadata": {},
   "source": [
    "#### Cluster Distribution"
   ]
  },
  {
   "cell_type": "code",
   "execution_count": 5,
   "metadata": {},
   "outputs": [
    {
     "data": {
      "text/html": [
       "<div>\n",
       "<style scoped>\n",
       "    .dataframe tbody tr th:only-of-type {\n",
       "        vertical-align: middle;\n",
       "    }\n",
       "\n",
       "    .dataframe tbody tr th {\n",
       "        vertical-align: top;\n",
       "    }\n",
       "\n",
       "    .dataframe thead th {\n",
       "        text-align: right;\n",
       "    }\n",
       "</style>\n",
       "<table border=\"1\" class=\"dataframe\">\n",
       "  <thead>\n",
       "    <tr style=\"text-align: right;\">\n",
       "      <th></th>\n",
       "      <th></th>\n",
       "      <th></th>\n",
       "      <th>Fresh</th>\n",
       "      <th>Milk</th>\n",
       "      <th>Grocery</th>\n",
       "      <th>Frozen</th>\n",
       "      <th>Detergent</th>\n",
       "      <th>Deli</th>\n",
       "    </tr>\n",
       "    <tr>\n",
       "      <th>cluster_kpca_cos</th>\n",
       "      <th>Channel</th>\n",
       "      <th>Region</th>\n",
       "      <th></th>\n",
       "      <th></th>\n",
       "      <th></th>\n",
       "      <th></th>\n",
       "      <th></th>\n",
       "      <th></th>\n",
       "    </tr>\n",
       "  </thead>\n",
       "  <tbody>\n",
       "    <tr>\n",
       "      <th rowspan=\"4\" valign=\"top\">0</th>\n",
       "      <th rowspan=\"3\" valign=\"top\">HotelRestCafe</th>\n",
       "      <th>Lisbon</th>\n",
       "      <td>15022.055556</td>\n",
       "      <td>1949.166667</td>\n",
       "      <td>2459.388889</td>\n",
       "      <td>3691.166667</td>\n",
       "      <td>341.500000</td>\n",
       "      <td>925.388889</td>\n",
       "    </tr>\n",
       "    <tr>\n",
       "      <th>Other</th>\n",
       "      <td>14973.352941</td>\n",
       "      <td>1907.509804</td>\n",
       "      <td>2390.274510</td>\n",
       "      <td>3780.823529</td>\n",
       "      <td>417.392157</td>\n",
       "      <td>806.803922</td>\n",
       "    </tr>\n",
       "    <tr>\n",
       "      <th>Porto</th>\n",
       "      <td>12720.846154</td>\n",
       "      <td>1570.076923</td>\n",
       "      <td>3646.076923</td>\n",
       "      <td>5650.307692</td>\n",
       "      <td>428.461538</td>\n",
       "      <td>1125.923077</td>\n",
       "    </tr>\n",
       "    <tr>\n",
       "      <th>Retail</th>\n",
       "      <th>Other</th>\n",
       "      <td>16085.666667</td>\n",
       "      <td>3109.666667</td>\n",
       "      <td>4594.000000</td>\n",
       "      <td>1181.666667</td>\n",
       "      <td>1537.000000</td>\n",
       "      <td>1096.333333</td>\n",
       "    </tr>\n",
       "    <tr>\n",
       "      <th rowspan=\"5\" valign=\"top\">1</th>\n",
       "      <th rowspan=\"2\" valign=\"top\">HotelRestCafe</th>\n",
       "      <th>Lisbon</th>\n",
       "      <td>6364.666667</td>\n",
       "      <td>17421.333333</td>\n",
       "      <td>11328.333333</td>\n",
       "      <td>5405.000000</td>\n",
       "      <td>2735.000000</td>\n",
       "      <td>3096.333333</td>\n",
       "    </tr>\n",
       "    <tr>\n",
       "      <th>Other</th>\n",
       "      <td>11908.500000</td>\n",
       "      <td>15602.500000</td>\n",
       "      <td>14858.000000</td>\n",
       "      <td>3388.000000</td>\n",
       "      <td>2680.500000</td>\n",
       "      <td>3507.000000</td>\n",
       "    </tr>\n",
       "    <tr>\n",
       "      <th rowspan=\"3\" valign=\"top\">Retail</th>\n",
       "      <th>Lisbon</th>\n",
       "      <td>4302.166667</td>\n",
       "      <td>13440.833333</td>\n",
       "      <td>23713.250000</td>\n",
       "      <td>2153.000000</td>\n",
       "      <td>10679.750000</td>\n",
       "      <td>2188.833333</td>\n",
       "    </tr>\n",
       "    <tr>\n",
       "      <th>Other</th>\n",
       "      <td>9260.603774</td>\n",
       "      <td>15728.924528</td>\n",
       "      <td>22173.962264</td>\n",
       "      <td>1778.943396</td>\n",
       "      <td>9987.754717</td>\n",
       "      <td>2207.358491</td>\n",
       "    </tr>\n",
       "    <tr>\n",
       "      <th>Porto</th>\n",
       "      <td>4998.900000</td>\n",
       "      <td>12905.200000</td>\n",
       "      <td>23565.600000</td>\n",
       "      <td>1106.200000</td>\n",
       "      <td>12201.800000</td>\n",
       "      <td>1326.400000</td>\n",
       "    </tr>\n",
       "    <tr>\n",
       "      <th rowspan=\"6\" valign=\"top\">2</th>\n",
       "      <th rowspan=\"3\" valign=\"top\">HotelRestCafe</th>\n",
       "      <th>Lisbon</th>\n",
       "      <td>35193.000000</td>\n",
       "      <td>4892.444444</td>\n",
       "      <td>6189.333333</td>\n",
       "      <td>6391.555556</td>\n",
       "      <td>569.555556</td>\n",
       "      <td>2702.222222</td>\n",
       "    </tr>\n",
       "    <tr>\n",
       "      <th>Other</th>\n",
       "      <td>32018.096154</td>\n",
       "      <td>5519.519231</td>\n",
       "      <td>5693.903846</td>\n",
       "      <td>7774.538462</td>\n",
       "      <td>865.076923</td>\n",
       "      <td>3372.961538</td>\n",
       "    </tr>\n",
       "    <tr>\n",
       "      <th>Porto</th>\n",
       "      <td>29443.000000</td>\n",
       "      <td>7568.666667</td>\n",
       "      <td>8123.333333</td>\n",
       "      <td>22094.666667</td>\n",
       "      <td>594.333333</td>\n",
       "      <td>2272.666667</td>\n",
       "    </tr>\n",
       "    <tr>\n",
       "      <th rowspan=\"3\" valign=\"top\">Retail</th>\n",
       "      <th>Lisbon</th>\n",
       "      <td>15927.000000</td>\n",
       "      <td>5955.000000</td>\n",
       "      <td>7413.500000</td>\n",
       "      <td>5040.000000</td>\n",
       "      <td>1761.500000</td>\n",
       "      <td>1845.000000</td>\n",
       "    </tr>\n",
       "    <tr>\n",
       "      <th>Other</th>\n",
       "      <td>23938.461538</td>\n",
       "      <td>6279.923077</td>\n",
       "      <td>9520.230769</td>\n",
       "      <td>2133.923077</td>\n",
       "      <td>2765.538462</td>\n",
       "      <td>2451.846154</td>\n",
       "    </tr>\n",
       "    <tr>\n",
       "      <th>Porto</th>\n",
       "      <td>20117.666667</td>\n",
       "      <td>4662.666667</td>\n",
       "      <td>6631.000000</td>\n",
       "      <td>4582.666667</td>\n",
       "      <td>2368.333333</td>\n",
       "      <td>2543.333333</td>\n",
       "    </tr>\n",
       "    <tr>\n",
       "      <th rowspan=\"5\" valign=\"top\">3</th>\n",
       "      <th rowspan=\"2\" valign=\"top\">HotelRestCafe</th>\n",
       "      <th>Lisbon</th>\n",
       "      <td>3218.333333</td>\n",
       "      <td>7438.166667</td>\n",
       "      <td>7476.500000</td>\n",
       "      <td>1071.666667</td>\n",
       "      <td>2718.500000</td>\n",
       "      <td>960.000000</td>\n",
       "    </tr>\n",
       "    <tr>\n",
       "      <th>Other</th>\n",
       "      <td>2835.500000</td>\n",
       "      <td>6629.625000</td>\n",
       "      <td>8714.687500</td>\n",
       "      <td>1316.000000</td>\n",
       "      <td>2991.125000</td>\n",
       "      <td>1075.000000</td>\n",
       "    </tr>\n",
       "    <tr>\n",
       "      <th rowspan=\"3\" valign=\"top\">Retail</th>\n",
       "      <th>Lisbon</th>\n",
       "      <td>2443.333333</td>\n",
       "      <td>6128.333333</td>\n",
       "      <td>9281.333333</td>\n",
       "      <td>1662.000000</td>\n",
       "      <td>5195.666667</td>\n",
       "      <td>793.000000</td>\n",
       "    </tr>\n",
       "    <tr>\n",
       "      <th>Other</th>\n",
       "      <td>4539.060606</td>\n",
       "      <td>6606.030303</td>\n",
       "      <td>10429.969697</td>\n",
       "      <td>909.454545</td>\n",
       "      <td>4387.848485</td>\n",
       "      <td>1169.393939</td>\n",
       "    </tr>\n",
       "    <tr>\n",
       "      <th>Porto</th>\n",
       "      <td>3121.500000</td>\n",
       "      <td>6622.250000</td>\n",
       "      <td>10607.750000</td>\n",
       "      <td>647.250000</td>\n",
       "      <td>6188.000000</td>\n",
       "      <td>465.500000</td>\n",
       "    </tr>\n",
       "    <tr>\n",
       "      <th rowspan=\"6\" valign=\"top\">4</th>\n",
       "      <th rowspan=\"3\" valign=\"top\">HotelRestCafe</th>\n",
       "      <th>Lisbon</th>\n",
       "      <td>5899.782609</td>\n",
       "      <td>2275.304348</td>\n",
       "      <td>2553.260870</td>\n",
       "      <td>1647.913043</td>\n",
       "      <td>882.260870</td>\n",
       "      <td>635.043478</td>\n",
       "    </tr>\n",
       "    <tr>\n",
       "      <th>Other</th>\n",
       "      <td>4783.355556</td>\n",
       "      <td>2379.733333</td>\n",
       "      <td>2588.477778</td>\n",
       "      <td>1629.733333</td>\n",
       "      <td>516.666667</td>\n",
       "      <td>884.477778</td>\n",
       "    </tr>\n",
       "    <tr>\n",
       "      <th>Porto</th>\n",
       "      <td>6042.916667</td>\n",
       "      <td>1783.500000</td>\n",
       "      <td>4275.416667</td>\n",
       "      <td>1760.250000</td>\n",
       "      <td>513.583333</td>\n",
       "      <td>792.500000</td>\n",
       "    </tr>\n",
       "    <tr>\n",
       "      <th rowspan=\"3\" valign=\"top\">Retail</th>\n",
       "      <th>Lisbon</th>\n",
       "      <td>2790.000000</td>\n",
       "      <td>2527.000000</td>\n",
       "      <td>5265.000000</td>\n",
       "      <td>5612.000000</td>\n",
       "      <td>788.000000</td>\n",
       "      <td>1360.000000</td>\n",
       "    </tr>\n",
       "    <tr>\n",
       "      <th>Other</th>\n",
       "      <td>10750.000000</td>\n",
       "      <td>3468.666667</td>\n",
       "      <td>6065.333333</td>\n",
       "      <td>1101.333333</td>\n",
       "      <td>3235.666667</td>\n",
       "      <td>336.333333</td>\n",
       "    </tr>\n",
       "    <tr>\n",
       "      <th>Porto</th>\n",
       "      <td>7839.000000</td>\n",
       "      <td>2548.000000</td>\n",
       "      <td>6110.000000</td>\n",
       "      <td>936.000000</td>\n",
       "      <td>2960.000000</td>\n",
       "      <td>392.500000</td>\n",
       "    </tr>\n",
       "  </tbody>\n",
       "</table>\n",
       "</div>"
      ],
      "text/plain": [
       "                                              Fresh          Milk  \\\n",
       "cluster_kpca_cos Channel       Region                               \n",
       "0                HotelRestCafe Lisbon  15022.055556   1949.166667   \n",
       "                               Other   14973.352941   1907.509804   \n",
       "                               Porto   12720.846154   1570.076923   \n",
       "                 Retail        Other   16085.666667   3109.666667   \n",
       "1                HotelRestCafe Lisbon   6364.666667  17421.333333   \n",
       "                               Other   11908.500000  15602.500000   \n",
       "                 Retail        Lisbon   4302.166667  13440.833333   \n",
       "                               Other    9260.603774  15728.924528   \n",
       "                               Porto    4998.900000  12905.200000   \n",
       "2                HotelRestCafe Lisbon  35193.000000   4892.444444   \n",
       "                               Other   32018.096154   5519.519231   \n",
       "                               Porto   29443.000000   7568.666667   \n",
       "                 Retail        Lisbon  15927.000000   5955.000000   \n",
       "                               Other   23938.461538   6279.923077   \n",
       "                               Porto   20117.666667   4662.666667   \n",
       "3                HotelRestCafe Lisbon   3218.333333   7438.166667   \n",
       "                               Other    2835.500000   6629.625000   \n",
       "                 Retail        Lisbon   2443.333333   6128.333333   \n",
       "                               Other    4539.060606   6606.030303   \n",
       "                               Porto    3121.500000   6622.250000   \n",
       "4                HotelRestCafe Lisbon   5899.782609   2275.304348   \n",
       "                               Other    4783.355556   2379.733333   \n",
       "                               Porto    6042.916667   1783.500000   \n",
       "                 Retail        Lisbon   2790.000000   2527.000000   \n",
       "                               Other   10750.000000   3468.666667   \n",
       "                               Porto    7839.000000   2548.000000   \n",
       "\n",
       "                                            Grocery        Frozen  \\\n",
       "cluster_kpca_cos Channel       Region                               \n",
       "0                HotelRestCafe Lisbon   2459.388889   3691.166667   \n",
       "                               Other    2390.274510   3780.823529   \n",
       "                               Porto    3646.076923   5650.307692   \n",
       "                 Retail        Other    4594.000000   1181.666667   \n",
       "1                HotelRestCafe Lisbon  11328.333333   5405.000000   \n",
       "                               Other   14858.000000   3388.000000   \n",
       "                 Retail        Lisbon  23713.250000   2153.000000   \n",
       "                               Other   22173.962264   1778.943396   \n",
       "                               Porto   23565.600000   1106.200000   \n",
       "2                HotelRestCafe Lisbon   6189.333333   6391.555556   \n",
       "                               Other    5693.903846   7774.538462   \n",
       "                               Porto    8123.333333  22094.666667   \n",
       "                 Retail        Lisbon   7413.500000   5040.000000   \n",
       "                               Other    9520.230769   2133.923077   \n",
       "                               Porto    6631.000000   4582.666667   \n",
       "3                HotelRestCafe Lisbon   7476.500000   1071.666667   \n",
       "                               Other    8714.687500   1316.000000   \n",
       "                 Retail        Lisbon   9281.333333   1662.000000   \n",
       "                               Other   10429.969697    909.454545   \n",
       "                               Porto   10607.750000    647.250000   \n",
       "4                HotelRestCafe Lisbon   2553.260870   1647.913043   \n",
       "                               Other    2588.477778   1629.733333   \n",
       "                               Porto    4275.416667   1760.250000   \n",
       "                 Retail        Lisbon   5265.000000   5612.000000   \n",
       "                               Other    6065.333333   1101.333333   \n",
       "                               Porto    6110.000000    936.000000   \n",
       "\n",
       "                                          Detergent         Deli  \n",
       "cluster_kpca_cos Channel       Region                             \n",
       "0                HotelRestCafe Lisbon    341.500000   925.388889  \n",
       "                               Other     417.392157   806.803922  \n",
       "                               Porto     428.461538  1125.923077  \n",
       "                 Retail        Other    1537.000000  1096.333333  \n",
       "1                HotelRestCafe Lisbon   2735.000000  3096.333333  \n",
       "                               Other    2680.500000  3507.000000  \n",
       "                 Retail        Lisbon  10679.750000  2188.833333  \n",
       "                               Other    9987.754717  2207.358491  \n",
       "                               Porto   12201.800000  1326.400000  \n",
       "2                HotelRestCafe Lisbon    569.555556  2702.222222  \n",
       "                               Other     865.076923  3372.961538  \n",
       "                               Porto     594.333333  2272.666667  \n",
       "                 Retail        Lisbon   1761.500000  1845.000000  \n",
       "                               Other    2765.538462  2451.846154  \n",
       "                               Porto    2368.333333  2543.333333  \n",
       "3                HotelRestCafe Lisbon   2718.500000   960.000000  \n",
       "                               Other    2991.125000  1075.000000  \n",
       "                 Retail        Lisbon   5195.666667   793.000000  \n",
       "                               Other    4387.848485  1169.393939  \n",
       "                               Porto    6188.000000   465.500000  \n",
       "4                HotelRestCafe Lisbon    882.260870   635.043478  \n",
       "                               Other     516.666667   884.477778  \n",
       "                               Porto     513.583333   792.500000  \n",
       "                 Retail        Lisbon    788.000000  1360.000000  \n",
       "                               Other    3235.666667   336.333333  \n",
       "                               Porto    2960.000000   392.500000  "
      ]
     },
     "execution_count": 5,
     "metadata": {},
     "output_type": "execute_result"
    }
   ],
   "source": [
    "df.groupby(['cluster_kpca_cos', 'Channel', 'Region'])[features].mean()"
   ]
  },
  {
   "cell_type": "code",
   "execution_count": 6,
   "metadata": {},
   "outputs": [
    {
     "data": {
      "text/html": [
       "<div>\n",
       "<style scoped>\n",
       "    .dataframe tbody tr th:only-of-type {\n",
       "        vertical-align: middle;\n",
       "    }\n",
       "\n",
       "    .dataframe tbody tr th {\n",
       "        vertical-align: top;\n",
       "    }\n",
       "\n",
       "    .dataframe thead th {\n",
       "        text-align: right;\n",
       "    }\n",
       "</style>\n",
       "<table border=\"1\" class=\"dataframe\">\n",
       "  <thead>\n",
       "    <tr style=\"text-align: right;\">\n",
       "      <th></th>\n",
       "      <th>Channel</th>\n",
       "      <th>Region</th>\n",
       "      <th>Fresh</th>\n",
       "      <th>Milk</th>\n",
       "      <th>Grocery</th>\n",
       "      <th>Frozen</th>\n",
       "      <th>Detergent</th>\n",
       "      <th>Deli</th>\n",
       "      <th>x_kpca_poly</th>\n",
       "      <th>y_kpca_poly</th>\n",
       "      <th>x_kpca_rbf</th>\n",
       "      <th>y_kpca_rbf</th>\n",
       "      <th>x_kpca_cos</th>\n",
       "      <th>y_kpca_cos</th>\n",
       "    </tr>\n",
       "    <tr>\n",
       "      <th>cluster_kpca_cos</th>\n",
       "      <th></th>\n",
       "      <th></th>\n",
       "      <th></th>\n",
       "      <th></th>\n",
       "      <th></th>\n",
       "      <th></th>\n",
       "      <th></th>\n",
       "      <th></th>\n",
       "      <th></th>\n",
       "      <th></th>\n",
       "      <th></th>\n",
       "      <th></th>\n",
       "      <th></th>\n",
       "      <th></th>\n",
       "    </tr>\n",
       "  </thead>\n",
       "  <tbody>\n",
       "    <tr>\n",
       "      <th>0</th>\n",
       "      <td>85</td>\n",
       "      <td>85</td>\n",
       "      <td>85</td>\n",
       "      <td>85</td>\n",
       "      <td>85</td>\n",
       "      <td>85</td>\n",
       "      <td>85</td>\n",
       "      <td>85</td>\n",
       "      <td>85</td>\n",
       "      <td>85</td>\n",
       "      <td>85</td>\n",
       "      <td>85</td>\n",
       "      <td>85</td>\n",
       "      <td>85</td>\n",
       "    </tr>\n",
       "    <tr>\n",
       "      <th>1</th>\n",
       "      <td>80</td>\n",
       "      <td>80</td>\n",
       "      <td>80</td>\n",
       "      <td>80</td>\n",
       "      <td>80</td>\n",
       "      <td>80</td>\n",
       "      <td>80</td>\n",
       "      <td>80</td>\n",
       "      <td>80</td>\n",
       "      <td>80</td>\n",
       "      <td>80</td>\n",
       "      <td>80</td>\n",
       "      <td>80</td>\n",
       "      <td>80</td>\n",
       "    </tr>\n",
       "    <tr>\n",
       "      <th>2</th>\n",
       "      <td>82</td>\n",
       "      <td>82</td>\n",
       "      <td>82</td>\n",
       "      <td>82</td>\n",
       "      <td>82</td>\n",
       "      <td>82</td>\n",
       "      <td>82</td>\n",
       "      <td>82</td>\n",
       "      <td>82</td>\n",
       "      <td>82</td>\n",
       "      <td>82</td>\n",
       "      <td>82</td>\n",
       "      <td>82</td>\n",
       "      <td>82</td>\n",
       "    </tr>\n",
       "    <tr>\n",
       "      <th>3</th>\n",
       "      <td>62</td>\n",
       "      <td>62</td>\n",
       "      <td>62</td>\n",
       "      <td>62</td>\n",
       "      <td>62</td>\n",
       "      <td>62</td>\n",
       "      <td>62</td>\n",
       "      <td>62</td>\n",
       "      <td>62</td>\n",
       "      <td>62</td>\n",
       "      <td>62</td>\n",
       "      <td>62</td>\n",
       "      <td>62</td>\n",
       "      <td>62</td>\n",
       "    </tr>\n",
       "    <tr>\n",
       "      <th>4</th>\n",
       "      <td>131</td>\n",
       "      <td>131</td>\n",
       "      <td>131</td>\n",
       "      <td>131</td>\n",
       "      <td>131</td>\n",
       "      <td>131</td>\n",
       "      <td>131</td>\n",
       "      <td>131</td>\n",
       "      <td>131</td>\n",
       "      <td>131</td>\n",
       "      <td>131</td>\n",
       "      <td>131</td>\n",
       "      <td>131</td>\n",
       "      <td>131</td>\n",
       "    </tr>\n",
       "  </tbody>\n",
       "</table>\n",
       "</div>"
      ],
      "text/plain": [
       "                  Channel  Region  Fresh  Milk  Grocery  Frozen  Detergent  \\\n",
       "cluster_kpca_cos                                                             \n",
       "0                      85      85     85    85       85      85         85   \n",
       "1                      80      80     80    80       80      80         80   \n",
       "2                      82      82     82    82       82      82         82   \n",
       "3                      62      62     62    62       62      62         62   \n",
       "4                     131     131    131   131      131     131        131   \n",
       "\n",
       "                  Deli  x_kpca_poly  y_kpca_poly  x_kpca_rbf  y_kpca_rbf  \\\n",
       "cluster_kpca_cos                                                           \n",
       "0                   85           85           85          85          85   \n",
       "1                   80           80           80          80          80   \n",
       "2                   82           82           82          82          82   \n",
       "3                   62           62           62          62          62   \n",
       "4                  131          131          131         131         131   \n",
       "\n",
       "                  x_kpca_cos  y_kpca_cos  \n",
       "cluster_kpca_cos                          \n",
       "0                         85          85  \n",
       "1                         80          80  \n",
       "2                         82          82  \n",
       "3                         62          62  \n",
       "4                        131         131  "
      ]
     },
     "execution_count": 6,
     "metadata": {},
     "output_type": "execute_result"
    }
   ],
   "source": [
    "df.groupby('cluster_kpca_cos').count()"
   ]
  },
  {
   "cell_type": "code",
   "execution_count": 7,
   "metadata": {},
   "outputs": [],
   "source": [
    "clusters = df.cluster_kpca_cos.tolist()"
   ]
  },
  {
   "cell_type": "code",
   "execution_count": 8,
   "metadata": {},
   "outputs": [],
   "source": [
    "df_normalized = df.copy(deep=True)\n",
    "df_normalized[features] = df_normalized[features]/df_normalized[features].max()"
   ]
  },
  {
   "cell_type": "code",
   "execution_count": 9,
   "metadata": {},
   "outputs": [
    {
     "data": {
      "text/html": [
       "<div>\n",
       "<style scoped>\n",
       "    .dataframe tbody tr th:only-of-type {\n",
       "        vertical-align: middle;\n",
       "    }\n",
       "\n",
       "    .dataframe tbody tr th {\n",
       "        vertical-align: top;\n",
       "    }\n",
       "\n",
       "    .dataframe thead th {\n",
       "        text-align: right;\n",
       "    }\n",
       "</style>\n",
       "<table border=\"1\" class=\"dataframe\">\n",
       "  <thead>\n",
       "    <tr style=\"text-align: right;\">\n",
       "      <th></th>\n",
       "      <th>Channel</th>\n",
       "      <th>Region</th>\n",
       "      <th>Fresh</th>\n",
       "      <th>Milk</th>\n",
       "      <th>Grocery</th>\n",
       "      <th>Frozen</th>\n",
       "      <th>Detergent</th>\n",
       "      <th>Deli</th>\n",
       "      <th>x_kpca_poly</th>\n",
       "      <th>y_kpca_poly</th>\n",
       "      <th>x_kpca_rbf</th>\n",
       "      <th>y_kpca_rbf</th>\n",
       "      <th>x_kpca_cos</th>\n",
       "      <th>y_kpca_cos</th>\n",
       "      <th>cluster_kpca_cos</th>\n",
       "    </tr>\n",
       "  </thead>\n",
       "  <tbody>\n",
       "    <tr>\n",
       "      <th>0</th>\n",
       "      <td>Retail</td>\n",
       "      <td>Other</td>\n",
       "      <td>0.112964</td>\n",
       "      <td>0.131378</td>\n",
       "      <td>0.081494</td>\n",
       "      <td>0.003516</td>\n",
       "      <td>0.065496</td>\n",
       "      <td>0.027908</td>\n",
       "      <td>-0.298146</td>\n",
       "      <td>-0.307672</td>\n",
       "      <td>0.078374</td>\n",
       "      <td>-0.173115</td>\n",
       "      <td>0.504789</td>\n",
       "      <td>0.009622</td>\n",
       "      <td>3</td>\n",
       "    </tr>\n",
       "    <tr>\n",
       "      <th>1</th>\n",
       "      <td>Retail</td>\n",
       "      <td>Other</td>\n",
       "      <td>0.062924</td>\n",
       "      <td>0.133473</td>\n",
       "      <td>0.103126</td>\n",
       "      <td>0.028947</td>\n",
       "      <td>0.080657</td>\n",
       "      <td>0.037044</td>\n",
       "      <td>-0.272613</td>\n",
       "      <td>-0.248762</td>\n",
       "      <td>0.185813</td>\n",
       "      <td>-0.307415</td>\n",
       "      <td>0.889941</td>\n",
       "      <td>-0.262833</td>\n",
       "      <td>1</td>\n",
       "    </tr>\n",
       "    <tr>\n",
       "      <th>2</th>\n",
       "      <td>Retail</td>\n",
       "      <td>Other</td>\n",
       "      <td>0.056647</td>\n",
       "      <td>0.119840</td>\n",
       "      <td>0.082820</td>\n",
       "      <td>0.039511</td>\n",
       "      <td>0.086119</td>\n",
       "      <td>0.163611</td>\n",
       "      <td>0.557870</td>\n",
       "      <td>-0.356102</td>\n",
       "      <td>0.341702</td>\n",
       "      <td>0.075048</td>\n",
       "      <td>0.473994</td>\n",
       "      <td>0.235687</td>\n",
       "      <td>1</td>\n",
       "    </tr>\n",
       "    <tr>\n",
       "      <th>3</th>\n",
       "      <td>HotelRestCafe</td>\n",
       "      <td>Other</td>\n",
       "      <td>0.118278</td>\n",
       "      <td>0.016273</td>\n",
       "      <td>0.045495</td>\n",
       "      <td>0.105210</td>\n",
       "      <td>0.012418</td>\n",
       "      <td>0.037294</td>\n",
       "      <td>-0.263419</td>\n",
       "      <td>-0.454023</td>\n",
       "      <td>-0.253304</td>\n",
       "      <td>0.250352</td>\n",
       "      <td>-0.618611</td>\n",
       "      <td>0.370131</td>\n",
       "      <td>0</td>\n",
       "    </tr>\n",
       "    <tr>\n",
       "      <th>4</th>\n",
       "      <td>Retail</td>\n",
       "      <td>Other</td>\n",
       "      <td>0.201648</td>\n",
       "      <td>0.073607</td>\n",
       "      <td>0.077581</td>\n",
       "      <td>0.064318</td>\n",
       "      <td>0.043525</td>\n",
       "      <td>0.108149</td>\n",
       "      <td>0.126922</td>\n",
       "      <td>-0.432733</td>\n",
       "      <td>0.136617</td>\n",
       "      <td>0.375279</td>\n",
       "      <td>0.068900</td>\n",
       "      <td>0.861829</td>\n",
       "      <td>2</td>\n",
       "    </tr>\n",
       "  </tbody>\n",
       "</table>\n",
       "</div>"
      ],
      "text/plain": [
       "         Channel Region     Fresh      Milk   Grocery    Frozen  Detergent  \\\n",
       "0         Retail  Other  0.112964  0.131378  0.081494  0.003516   0.065496   \n",
       "1         Retail  Other  0.062924  0.133473  0.103126  0.028947   0.080657   \n",
       "2         Retail  Other  0.056647  0.119840  0.082820  0.039511   0.086119   \n",
       "3  HotelRestCafe  Other  0.118278  0.016273  0.045495  0.105210   0.012418   \n",
       "4         Retail  Other  0.201648  0.073607  0.077581  0.064318   0.043525   \n",
       "\n",
       "       Deli  x_kpca_poly  y_kpca_poly  x_kpca_rbf  y_kpca_rbf  x_kpca_cos  \\\n",
       "0  0.027908    -0.298146    -0.307672    0.078374   -0.173115    0.504789   \n",
       "1  0.037044    -0.272613    -0.248762    0.185813   -0.307415    0.889941   \n",
       "2  0.163611     0.557870    -0.356102    0.341702    0.075048    0.473994   \n",
       "3  0.037294    -0.263419    -0.454023   -0.253304    0.250352   -0.618611   \n",
       "4  0.108149     0.126922    -0.432733    0.136617    0.375279    0.068900   \n",
       "\n",
       "   y_kpca_cos  cluster_kpca_cos  \n",
       "0    0.009622                 3  \n",
       "1   -0.262833                 1  \n",
       "2    0.235687                 1  \n",
       "3    0.370131                 0  \n",
       "4    0.861829                 2  "
      ]
     },
     "execution_count": 9,
     "metadata": {},
     "output_type": "execute_result"
    }
   ],
   "source": [
    "df_normalized.head()"
   ]
  },
  {
   "cell_type": "code",
   "execution_count": 10,
   "metadata": {},
   "outputs": [
    {
     "data": {
      "text/plain": [
       "Fresh        1.0\n",
       "Milk         1.0\n",
       "Grocery      1.0\n",
       "Frozen       1.0\n",
       "Detergent    1.0\n",
       "Deli         1.0\n",
       "dtype: float64"
      ]
     },
     "execution_count": 10,
     "metadata": {},
     "output_type": "execute_result"
    }
   ],
   "source": [
    "df_normalized[features].max()"
   ]
  },
  {
   "cell_type": "code",
   "execution_count": 11,
   "metadata": {},
   "outputs": [
    {
     "data": {
      "text/plain": [
       "Fresh        0.000027\n",
       "Milk         0.000748\n",
       "Grocery      0.000032\n",
       "Frozen       0.000411\n",
       "Detergent    0.000073\n",
       "Deli         0.000063\n",
       "dtype: float64"
      ]
     },
     "execution_count": 11,
     "metadata": {},
     "output_type": "execute_result"
    }
   ],
   "source": [
    "df_normalized[features].min()"
   ]
  },
  {
   "cell_type": "code",
   "execution_count": 12,
   "metadata": {},
   "outputs": [
    {
     "data": {
      "text/plain": [
       "131"
      ]
     },
     "execution_count": 12,
     "metadata": {},
     "output_type": "execute_result"
    }
   ],
   "source": [
    "biggest_cluster = df.groupby('cluster_kpca_cos').count().max().max()\n",
    "biggest_cluster"
   ]
  },
  {
   "cell_type": "code",
   "execution_count": 13,
   "metadata": {},
   "outputs": [
    {
     "data": {
      "text/plain": [
       "Fresh        0.268955\n",
       "Milk         0.076539\n",
       "Grocery      0.070274\n",
       "Frozen       0.116134\n",
       "Detergent    0.029414\n",
       "Deli         0.063522\n",
       "dtype: float64"
      ]
     },
     "execution_count": 13,
     "metadata": {},
     "output_type": "execute_result"
    }
   ],
   "source": [
    "df_normalized.loc[df_normalized.cluster_kpca_cos==2, features].mean()"
   ]
  },
  {
   "cell_type": "code",
   "execution_count": 22,
   "metadata": {},
   "outputs": [
    {
     "data": {
      "application/vnd.plotly.v1+json": {
       "config": {
        "plotlyServerURL": "https://plot.ly"
       },
       "data": [
        {
         "mode": "lines",
         "name": "Cluster 0",
         "opacity": 0.648854961832061,
         "r": [
          0.13088089744551332,
          0.025948365141588492,
          0.02882898190532949,
          0.06499241862708052,
          0.010839136154130988,
          0.0185833422287005,
          0.13088089744551332
         ],
         "text": [
          "Mean value: 14678.423529411764",
          "Mean value: 1907.1529411764707",
          "Mean value: 2674.752941176471",
          "Mean value: 3956.0235294117647",
          "Mean value: 442.52941176470586",
          "Mean value: 890.9411764705883",
          "Mean value: 14678.423529411764"
         ],
         "theta": [
          "Fresh",
          "Milk",
          "Grocery",
          "Frozen",
          "Detergent",
          "Deli",
          "Fresh"
         ],
         "type": "scatterpolar"
        },
        {
         "mode": "lines",
         "name": "Cluster 1",
         "opacity": 0.6106870229007634,
         "r": [
          0.07081278811602215,
          0.20535320688998332,
          0.23700366458288427,
          0.031660820779050095,
          0.24282092732750385,
          0.04505949773689592,
          0.07081278811602215
         ],
         "text": [
          "Mean value: 7941.725",
          "Mean value: 15093.05",
          "Mean value: 21989.2",
          "Mean value: 1927.1625",
          "Mean value: 9913.65",
          "Mean value: 2160.2875",
          "Mean value: 7941.725"
         ],
         "theta": [
          "Fresh",
          "Milk",
          "Grocery",
          "Frozen",
          "Detergent",
          "Deli",
          "Fresh"
         ],
         "type": "scatterpolar"
        },
        {
         "mode": "lines",
         "name": "Cluster 2",
         "opacity": 0.6259541984732825,
         "r": [
          0.2689551173494098,
          0.07653933174886458,
          0.07027376589782279,
          0.11613364807028609,
          0.029414119183443294,
          0.06352207881005036,
          0.2689551173494098
         ],
         "text": [
          "Mean value: 30163.585365853658",
          "Mean value: 5625.487804878048",
          "Mean value: 6520.0",
          "Mean value: 7068.9390243902435",
          "Mean value: 1200.8902439024391",
          "Mean value: 3045.439024390244",
          "Mean value: 30163.585365853658"
         ],
         "theta": [
          "Fresh",
          "Milk",
          "Grocery",
          "Frozen",
          "Detergent",
          "Deli",
          "Fresh"
         ],
         "type": "scatterpolar"
        },
        {
         "mode": "lines",
         "name": "Cluster 3",
         "opacity": 0.6,
         "r": [
          0.03369348525217011,
          0.09075866887753803,
          0.10408910429806195,
          0.017243005735744502,
          0.09849072048304529,
          0.02213347436101877,
          0.03369348525217011
         ],
         "text": [
          "Mean value: 3778.7580645161293",
          "Mean value: 6670.580645161291",
          "Mean value: 9657.387096774193",
          "Mean value: 1049.5645161290322",
          "Mean value: 4021.0806451612902",
          "Mean value: 1061.1451612903227",
          "Mean value: 3778.7580645161293"
         ],
         "theta": [
          "Fresh",
          "Milk",
          "Grocery",
          "Frozen",
          "Detergent",
          "Deli",
          "Fresh"
         ],
         "type": "scatterpolar"
        },
        {
         "mode": "lines",
         "name": "Cluster 4",
         "opacity": 1,
         "r": [
          0.046926237193434875,
          0.031775180463964436,
          0.031155865718625185,
          0.027149908594843713,
          0.01670986701099799,
          0.017016549391588264,
          0.046926237193434875
         ],
         "text": [
          "Mean value: 5262.824427480916",
          "Mean value: 2335.412213740458",
          "Mean value: 2890.641221374046",
          "Mean value: 1652.5877862595419",
          "Mean value: 682.2137404580153",
          "Mean value: 815.824427480916",
          "Mean value: 5262.824427480916"
         ],
         "theta": [
          "Fresh",
          "Milk",
          "Grocery",
          "Frozen",
          "Detergent",
          "Deli",
          "Fresh"
         ],
         "type": "scatterpolar"
        }
       ],
       "layout": {
        "autosize": false,
        "height": 450,
        "polar": {
         "angularaxis": {
          "type": "category"
         },
         "radialaxis": {
          "autorange": true,
          "range": [
           0,
           0.2689551173494098
          ],
          "type": "linear"
         }
        },
        "template": {
         "data": {
          "bar": [
           {
            "error_x": {
             "color": "#f2f5fa"
            },
            "error_y": {
             "color": "#f2f5fa"
            },
            "marker": {
             "line": {
              "color": "rgb(17,17,17)",
              "width": 0.5
             }
            },
            "type": "bar"
           }
          ],
          "barpolar": [
           {
            "marker": {
             "line": {
              "color": "rgb(17,17,17)",
              "width": 0.5
             }
            },
            "type": "barpolar"
           }
          ],
          "carpet": [
           {
            "aaxis": {
             "endlinecolor": "#A2B1C6",
             "gridcolor": "#506784",
             "linecolor": "#506784",
             "minorgridcolor": "#506784",
             "startlinecolor": "#A2B1C6"
            },
            "baxis": {
             "endlinecolor": "#A2B1C6",
             "gridcolor": "#506784",
             "linecolor": "#506784",
             "minorgridcolor": "#506784",
             "startlinecolor": "#A2B1C6"
            },
            "type": "carpet"
           }
          ],
          "choropleth": [
           {
            "colorbar": {
             "outlinewidth": 0,
             "ticks": ""
            },
            "type": "choropleth"
           }
          ],
          "contour": [
           {
            "colorbar": {
             "outlinewidth": 0,
             "ticks": ""
            },
            "colorscale": [
             [
              0,
              "#0d0887"
             ],
             [
              0.1111111111111111,
              "#46039f"
             ],
             [
              0.2222222222222222,
              "#7201a8"
             ],
             [
              0.3333333333333333,
              "#9c179e"
             ],
             [
              0.4444444444444444,
              "#bd3786"
             ],
             [
              0.5555555555555556,
              "#d8576b"
             ],
             [
              0.6666666666666666,
              "#ed7953"
             ],
             [
              0.7777777777777778,
              "#fb9f3a"
             ],
             [
              0.8888888888888888,
              "#fdca26"
             ],
             [
              1,
              "#f0f921"
             ]
            ],
            "type": "contour"
           }
          ],
          "contourcarpet": [
           {
            "colorbar": {
             "outlinewidth": 0,
             "ticks": ""
            },
            "type": "contourcarpet"
           }
          ],
          "heatmap": [
           {
            "colorbar": {
             "outlinewidth": 0,
             "ticks": ""
            },
            "colorscale": [
             [
              0,
              "#0d0887"
             ],
             [
              0.1111111111111111,
              "#46039f"
             ],
             [
              0.2222222222222222,
              "#7201a8"
             ],
             [
              0.3333333333333333,
              "#9c179e"
             ],
             [
              0.4444444444444444,
              "#bd3786"
             ],
             [
              0.5555555555555556,
              "#d8576b"
             ],
             [
              0.6666666666666666,
              "#ed7953"
             ],
             [
              0.7777777777777778,
              "#fb9f3a"
             ],
             [
              0.8888888888888888,
              "#fdca26"
             ],
             [
              1,
              "#f0f921"
             ]
            ],
            "type": "heatmap"
           }
          ],
          "heatmapgl": [
           {
            "colorbar": {
             "outlinewidth": 0,
             "ticks": ""
            },
            "colorscale": [
             [
              0,
              "#0d0887"
             ],
             [
              0.1111111111111111,
              "#46039f"
             ],
             [
              0.2222222222222222,
              "#7201a8"
             ],
             [
              0.3333333333333333,
              "#9c179e"
             ],
             [
              0.4444444444444444,
              "#bd3786"
             ],
             [
              0.5555555555555556,
              "#d8576b"
             ],
             [
              0.6666666666666666,
              "#ed7953"
             ],
             [
              0.7777777777777778,
              "#fb9f3a"
             ],
             [
              0.8888888888888888,
              "#fdca26"
             ],
             [
              1,
              "#f0f921"
             ]
            ],
            "type": "heatmapgl"
           }
          ],
          "histogram": [
           {
            "marker": {
             "colorbar": {
              "outlinewidth": 0,
              "ticks": ""
             }
            },
            "type": "histogram"
           }
          ],
          "histogram2d": [
           {
            "colorbar": {
             "outlinewidth": 0,
             "ticks": ""
            },
            "colorscale": [
             [
              0,
              "#0d0887"
             ],
             [
              0.1111111111111111,
              "#46039f"
             ],
             [
              0.2222222222222222,
              "#7201a8"
             ],
             [
              0.3333333333333333,
              "#9c179e"
             ],
             [
              0.4444444444444444,
              "#bd3786"
             ],
             [
              0.5555555555555556,
              "#d8576b"
             ],
             [
              0.6666666666666666,
              "#ed7953"
             ],
             [
              0.7777777777777778,
              "#fb9f3a"
             ],
             [
              0.8888888888888888,
              "#fdca26"
             ],
             [
              1,
              "#f0f921"
             ]
            ],
            "type": "histogram2d"
           }
          ],
          "histogram2dcontour": [
           {
            "colorbar": {
             "outlinewidth": 0,
             "ticks": ""
            },
            "colorscale": [
             [
              0,
              "#0d0887"
             ],
             [
              0.1111111111111111,
              "#46039f"
             ],
             [
              0.2222222222222222,
              "#7201a8"
             ],
             [
              0.3333333333333333,
              "#9c179e"
             ],
             [
              0.4444444444444444,
              "#bd3786"
             ],
             [
              0.5555555555555556,
              "#d8576b"
             ],
             [
              0.6666666666666666,
              "#ed7953"
             ],
             [
              0.7777777777777778,
              "#fb9f3a"
             ],
             [
              0.8888888888888888,
              "#fdca26"
             ],
             [
              1,
              "#f0f921"
             ]
            ],
            "type": "histogram2dcontour"
           }
          ],
          "mesh3d": [
           {
            "colorbar": {
             "outlinewidth": 0,
             "ticks": ""
            },
            "type": "mesh3d"
           }
          ],
          "parcoords": [
           {
            "line": {
             "colorbar": {
              "outlinewidth": 0,
              "ticks": ""
             }
            },
            "type": "parcoords"
           }
          ],
          "pie": [
           {
            "automargin": true,
            "type": "pie"
           }
          ],
          "scatter": [
           {
            "marker": {
             "line": {
              "color": "#283442"
             }
            },
            "type": "scatter"
           }
          ],
          "scatter3d": [
           {
            "line": {
             "colorbar": {
              "outlinewidth": 0,
              "ticks": ""
             }
            },
            "marker": {
             "colorbar": {
              "outlinewidth": 0,
              "ticks": ""
             }
            },
            "type": "scatter3d"
           }
          ],
          "scattercarpet": [
           {
            "marker": {
             "colorbar": {
              "outlinewidth": 0,
              "ticks": ""
             }
            },
            "type": "scattercarpet"
           }
          ],
          "scattergeo": [
           {
            "marker": {
             "colorbar": {
              "outlinewidth": 0,
              "ticks": ""
             }
            },
            "type": "scattergeo"
           }
          ],
          "scattergl": [
           {
            "marker": {
             "line": {
              "color": "#283442"
             }
            },
            "type": "scattergl"
           }
          ],
          "scattermapbox": [
           {
            "marker": {
             "colorbar": {
              "outlinewidth": 0,
              "ticks": ""
             }
            },
            "type": "scattermapbox"
           }
          ],
          "scatterpolar": [
           {
            "marker": {
             "colorbar": {
              "outlinewidth": 0,
              "ticks": ""
             }
            },
            "type": "scatterpolar"
           }
          ],
          "scatterpolargl": [
           {
            "marker": {
             "colorbar": {
              "outlinewidth": 0,
              "ticks": ""
             }
            },
            "type": "scatterpolargl"
           }
          ],
          "scatterternary": [
           {
            "marker": {
             "colorbar": {
              "outlinewidth": 0,
              "ticks": ""
             }
            },
            "type": "scatterternary"
           }
          ],
          "surface": [
           {
            "colorbar": {
             "outlinewidth": 0,
             "ticks": ""
            },
            "colorscale": [
             [
              0,
              "#0d0887"
             ],
             [
              0.1111111111111111,
              "#46039f"
             ],
             [
              0.2222222222222222,
              "#7201a8"
             ],
             [
              0.3333333333333333,
              "#9c179e"
             ],
             [
              0.4444444444444444,
              "#bd3786"
             ],
             [
              0.5555555555555556,
              "#d8576b"
             ],
             [
              0.6666666666666666,
              "#ed7953"
             ],
             [
              0.7777777777777778,
              "#fb9f3a"
             ],
             [
              0.8888888888888888,
              "#fdca26"
             ],
             [
              1,
              "#f0f921"
             ]
            ],
            "type": "surface"
           }
          ],
          "table": [
           {
            "cells": {
             "fill": {
              "color": "#506784"
             },
             "line": {
              "color": "rgb(17,17,17)"
             }
            },
            "header": {
             "fill": {
              "color": "#2a3f5f"
             },
             "line": {
              "color": "rgb(17,17,17)"
             }
            },
            "type": "table"
           }
          ]
         },
         "layout": {
          "annotationdefaults": {
           "arrowcolor": "#f2f5fa",
           "arrowhead": 0,
           "arrowwidth": 1
          },
          "autotypenumbers": "strict",
          "coloraxis": {
           "colorbar": {
            "outlinewidth": 0,
            "ticks": ""
           }
          },
          "colorscale": {
           "diverging": [
            [
             0,
             "#8e0152"
            ],
            [
             0.1,
             "#c51b7d"
            ],
            [
             0.2,
             "#de77ae"
            ],
            [
             0.3,
             "#f1b6da"
            ],
            [
             0.4,
             "#fde0ef"
            ],
            [
             0.5,
             "#f7f7f7"
            ],
            [
             0.6,
             "#e6f5d0"
            ],
            [
             0.7,
             "#b8e186"
            ],
            [
             0.8,
             "#7fbc41"
            ],
            [
             0.9,
             "#4d9221"
            ],
            [
             1,
             "#276419"
            ]
           ],
           "sequential": [
            [
             0,
             "#0d0887"
            ],
            [
             0.1111111111111111,
             "#46039f"
            ],
            [
             0.2222222222222222,
             "#7201a8"
            ],
            [
             0.3333333333333333,
             "#9c179e"
            ],
            [
             0.4444444444444444,
             "#bd3786"
            ],
            [
             0.5555555555555556,
             "#d8576b"
            ],
            [
             0.6666666666666666,
             "#ed7953"
            ],
            [
             0.7777777777777778,
             "#fb9f3a"
            ],
            [
             0.8888888888888888,
             "#fdca26"
            ],
            [
             1,
             "#f0f921"
            ]
           ],
           "sequentialminus": [
            [
             0,
             "#0d0887"
            ],
            [
             0.1111111111111111,
             "#46039f"
            ],
            [
             0.2222222222222222,
             "#7201a8"
            ],
            [
             0.3333333333333333,
             "#9c179e"
            ],
            [
             0.4444444444444444,
             "#bd3786"
            ],
            [
             0.5555555555555556,
             "#d8576b"
            ],
            [
             0.6666666666666666,
             "#ed7953"
            ],
            [
             0.7777777777777778,
             "#fb9f3a"
            ],
            [
             0.8888888888888888,
             "#fdca26"
            ],
            [
             1,
             "#f0f921"
            ]
           ]
          },
          "colorway": [
           "#636efa",
           "#EF553B",
           "#00cc96",
           "#ab63fa",
           "#FFA15A",
           "#19d3f3",
           "#FF6692",
           "#B6E880",
           "#FF97FF",
           "#FECB52"
          ],
          "font": {
           "color": "#f2f5fa"
          },
          "geo": {
           "bgcolor": "rgb(17,17,17)",
           "lakecolor": "rgb(17,17,17)",
           "landcolor": "rgb(17,17,17)",
           "showlakes": true,
           "showland": true,
           "subunitcolor": "#506784"
          },
          "hoverlabel": {
           "align": "left"
          },
          "hovermode": "closest",
          "mapbox": {
           "style": "dark"
          },
          "paper_bgcolor": "rgb(17,17,17)",
          "plot_bgcolor": "rgb(17,17,17)",
          "polar": {
           "angularaxis": {
            "gridcolor": "#506784",
            "linecolor": "#506784",
            "ticks": ""
           },
           "bgcolor": "rgb(17,17,17)",
           "radialaxis": {
            "gridcolor": "#506784",
            "linecolor": "#506784",
            "ticks": ""
           }
          },
          "scene": {
           "xaxis": {
            "backgroundcolor": "rgb(17,17,17)",
            "gridcolor": "#506784",
            "gridwidth": 2,
            "linecolor": "#506784",
            "showbackground": true,
            "ticks": "",
            "zerolinecolor": "#C8D4E3"
           },
           "yaxis": {
            "backgroundcolor": "rgb(17,17,17)",
            "gridcolor": "#506784",
            "gridwidth": 2,
            "linecolor": "#506784",
            "showbackground": true,
            "ticks": "",
            "zerolinecolor": "#C8D4E3"
           },
           "zaxis": {
            "backgroundcolor": "rgb(17,17,17)",
            "gridcolor": "#506784",
            "gridwidth": 2,
            "linecolor": "#506784",
            "showbackground": true,
            "ticks": "",
            "zerolinecolor": "#C8D4E3"
           }
          },
          "shapedefaults": {
           "line": {
            "color": "#f2f5fa"
           }
          },
          "sliderdefaults": {
           "bgcolor": "#C8D4E3",
           "bordercolor": "rgb(17,17,17)",
           "borderwidth": 1,
           "tickwidth": 0
          },
          "ternary": {
           "aaxis": {
            "gridcolor": "#506784",
            "linecolor": "#506784",
            "ticks": ""
           },
           "baxis": {
            "gridcolor": "#506784",
            "linecolor": "#506784",
            "ticks": ""
           },
           "bgcolor": "rgb(17,17,17)",
           "caxis": {
            "gridcolor": "#506784",
            "linecolor": "#506784",
            "ticks": ""
           }
          },
          "title": {
           "x": 0.05
          },
          "updatemenudefaults": {
           "bgcolor": "#506784",
           "borderwidth": 0
          },
          "xaxis": {
           "automargin": true,
           "gridcolor": "#283442",
           "linecolor": "#506784",
           "ticks": "",
           "title": {
            "standoff": 15
           },
           "zerolinecolor": "#283442",
           "zerolinewidth": 2
          },
          "yaxis": {
           "automargin": true,
           "gridcolor": "#283442",
           "linecolor": "#506784",
           "ticks": "",
           "title": {
            "standoff": 15
           },
           "zerolinecolor": "#283442",
           "zerolinewidth": 2
          }
         }
        },
        "title": {
         "text": "Cluster Analysis"
        },
        "width": 600
       }
      },
      "image/png": "[encoded data removed]",
      "text/html": [
       "<div>                            <div id=\"fe084c72-48aa-4fec-96ce-c2a688dcc0c4\" class=\"plotly-graph-div\" style=\"height:525px; width:600px;\"></div>            <script type=\"text/javascript\">                require([\"plotly\"], function(Plotly) {                    window.PLOTLYENV=window.PLOTLYENV || {};                                    if (document.getElementById(\"fe084c72-48aa-4fec-96ce-c2a688dcc0c4\")) {                    Plotly.newPlot(                        \"fe084c72-48aa-4fec-96ce-c2a688dcc0c4\",                        [{\"mode\": \"lines\", \"name\": \"Cluster 0\", \"opacity\": 0.648854961832061, \"r\": [0.13088089744551332, 0.025948365141588492, 0.02882898190532949, 0.06499241862708052, 0.010839136154130988, 0.0185833422287005, 0.13088089744551332], \"text\": [\"Mean value: 14678.423529411764\", \"Mean value: 1907.1529411764707\", \"Mean value: 2674.752941176471\", \"Mean value: 3956.0235294117647\", \"Mean value: 442.52941176470586\", \"Mean value: 890.9411764705883\", \"Mean value: 14678.423529411764\"], \"theta\": [\"Fresh\", \"Milk\", \"Grocery\", \"Frozen\", \"Detergent\", \"Deli\", \"Fresh\"], \"type\": \"scatterpolar\"}, {\"mode\": \"lines\", \"name\": \"Cluster 1\", \"opacity\": 0.6106870229007634, \"r\": [0.07081278811602215, 0.20535320688998332, 0.23700366458288427, 0.031660820779050095, 0.24282092732750385, 0.04505949773689592, 0.07081278811602215], \"text\": [\"Mean value: 7941.725\", \"Mean value: 15093.05\", \"Mean value: 21989.2\", \"Mean value: 1927.1625\", \"Mean value: 9913.65\", \"Mean value: 2160.2875\", \"Mean value: 7941.725\"], \"theta\": [\"Fresh\", \"Milk\", \"Grocery\", \"Frozen\", \"Detergent\", \"Deli\", \"Fresh\"], \"type\": \"scatterpolar\"}, {\"mode\": \"lines\", \"name\": \"Cluster 2\", \"opacity\": 0.6259541984732825, \"r\": [0.2689551173494098, 0.07653933174886458, 0.07027376589782279, 0.11613364807028609, 0.029414119183443294, 0.06352207881005036, 0.2689551173494098], \"text\": [\"Mean value: 30163.585365853658\", \"Mean value: 5625.487804878048\", \"Mean value: 6520.0\", \"Mean value: 7068.9390243902435\", \"Mean value: 1200.8902439024391\", \"Mean value: 3045.439024390244\", \"Mean value: 30163.585365853658\"], \"theta\": [\"Fresh\", \"Milk\", \"Grocery\", \"Frozen\", \"Detergent\", \"Deli\", \"Fresh\"], \"type\": \"scatterpolar\"}, {\"mode\": \"lines\", \"name\": \"Cluster 3\", \"opacity\": 0.6, \"r\": [0.03369348525217011, 0.09075866887753803, 0.10408910429806195, 0.017243005735744502, 0.09849072048304529, 0.02213347436101877, 0.03369348525217011], \"text\": [\"Mean value: 3778.7580645161293\", \"Mean value: 6670.580645161291\", \"Mean value: 9657.387096774193\", \"Mean value: 1049.5645161290322\", \"Mean value: 4021.0806451612902\", \"Mean value: 1061.1451612903227\", \"Mean value: 3778.7580645161293\"], \"theta\": [\"Fresh\", \"Milk\", \"Grocery\", \"Frozen\", \"Detergent\", \"Deli\", \"Fresh\"], \"type\": \"scatterpolar\"}, {\"mode\": \"lines\", \"name\": \"Cluster 4\", \"opacity\": 1.0, \"r\": [0.046926237193434875, 0.031775180463964436, 0.031155865718625185, 0.027149908594843713, 0.01670986701099799, 0.017016549391588264, 0.046926237193434875], \"text\": [\"Mean value: 5262.824427480916\", \"Mean value: 2335.412213740458\", \"Mean value: 2890.641221374046\", \"Mean value: 1652.5877862595419\", \"Mean value: 682.2137404580153\", \"Mean value: 815.824427480916\", \"Mean value: 5262.824427480916\"], \"theta\": [\"Fresh\", \"Milk\", \"Grocery\", \"Frozen\", \"Detergent\", \"Deli\", \"Fresh\"], \"type\": \"scatterpolar\"}],                        {\"autosize\": false, \"template\": {\"data\": {\"bar\": [{\"error_x\": {\"color\": \"#f2f5fa\"}, \"error_y\": {\"color\": \"#f2f5fa\"}, \"marker\": {\"line\": {\"color\": \"rgb(17,17,17)\", \"width\": 0.5}}, \"type\": \"bar\"}], \"barpolar\": [{\"marker\": {\"line\": {\"color\": \"rgb(17,17,17)\", \"width\": 0.5}}, \"type\": \"barpolar\"}], \"carpet\": [{\"aaxis\": {\"endlinecolor\": \"#A2B1C6\", \"gridcolor\": \"#506784\", \"linecolor\": \"#506784\", \"minorgridcolor\": \"#506784\", \"startlinecolor\": \"#A2B1C6\"}, \"baxis\": {\"endlinecolor\": \"#A2B1C6\", \"gridcolor\": \"#506784\", \"linecolor\": \"#506784\", \"minorgridcolor\": \"#506784\", \"startlinecolor\": \"#A2B1C6\"}, \"type\": \"carpet\"}], \"choropleth\": [{\"colorbar\": {\"outlinewidth\": 0, \"ticks\": \"\"}, \"type\": \"choropleth\"}], \"contour\": [{\"colorbar\": {\"outlinewidth\": 0, \"ticks\": \"\"}, \"colorscale\": [[0.0, \"#0d0887\"], [0.1111111111111111, \"#46039f\"], [0.2222222222222222, \"#7201a8\"], [0.3333333333333333, \"#9c179e\"], [0.4444444444444444, \"#bd3786\"], [0.5555555555555556, \"#d8576b\"], [0.6666666666666666, \"#ed7953\"], [0.7777777777777778, \"#fb9f3a\"], [0.8888888888888888, \"#fdca26\"], [1.0, \"#f0f921\"]], \"type\": \"contour\"}], \"contourcarpet\": [{\"colorbar\": {\"outlinewidth\": 0, \"ticks\": \"\"}, \"type\": \"contourcarpet\"}], \"heatmap\": [{\"colorbar\": {\"outlinewidth\": 0, \"ticks\": \"\"}, \"colorscale\": [[0.0, \"#0d0887\"], [0.1111111111111111, \"#46039f\"], [0.2222222222222222, \"#7201a8\"], [0.3333333333333333, \"#9c179e\"], [0.4444444444444444, \"#bd3786\"], [0.5555555555555556, \"#d8576b\"], [0.6666666666666666, \"#ed7953\"], [0.7777777777777778, \"#fb9f3a\"], [0.8888888888888888, \"#fdca26\"], [1.0, \"#f0f921\"]], \"type\": \"heatmap\"}], \"heatmapgl\": [{\"colorbar\": {\"outlinewidth\": 0, \"ticks\": \"\"}, \"colorscale\": [[0.0, \"#0d0887\"], [0.1111111111111111, \"#46039f\"], [0.2222222222222222, \"#7201a8\"], [0.3333333333333333, \"#9c179e\"], [0.4444444444444444, \"#bd3786\"], [0.5555555555555556, \"#d8576b\"], [0.6666666666666666, \"#ed7953\"], [0.7777777777777778, \"#fb9f3a\"], [0.8888888888888888, \"#fdca26\"], [1.0, \"#f0f921\"]], \"type\": \"heatmapgl\"}], \"histogram\": [{\"marker\": {\"colorbar\": {\"outlinewidth\": 0, \"ticks\": \"\"}}, \"type\": \"histogram\"}], \"histogram2d\": [{\"colorbar\": {\"outlinewidth\": 0, \"ticks\": \"\"}, \"colorscale\": [[0.0, \"#0d0887\"], [0.1111111111111111, \"#46039f\"], [0.2222222222222222, \"#7201a8\"], [0.3333333333333333, \"#9c179e\"], [0.4444444444444444, \"#bd3786\"], [0.5555555555555556, \"#d8576b\"], [0.6666666666666666, \"#ed7953\"], [0.7777777777777778, \"#fb9f3a\"], [0.8888888888888888, \"#fdca26\"], [1.0, \"#f0f921\"]], \"type\": \"histogram2d\"}], \"histogram2dcontour\": [{\"colorbar\": {\"outlinewidth\": 0, \"ticks\": \"\"}, \"colorscale\": [[0.0, \"#0d0887\"], [0.1111111111111111, \"#46039f\"], [0.2222222222222222, \"#7201a8\"], [0.3333333333333333, \"#9c179e\"], [0.4444444444444444, \"#bd3786\"], [0.5555555555555556, \"#d8576b\"], [0.6666666666666666, \"#ed7953\"], [0.7777777777777778, \"#fb9f3a\"], [0.8888888888888888, \"#fdca26\"], [1.0, \"#f0f921\"]], \"type\": \"histogram2dcontour\"}], \"mesh3d\": [{\"colorbar\": {\"outlinewidth\": 0, \"ticks\": \"\"}, \"type\": \"mesh3d\"}], \"parcoords\": [{\"line\": {\"colorbar\": {\"outlinewidth\": 0, \"ticks\": \"\"}}, \"type\": \"parcoords\"}], \"pie\": [{\"automargin\": true, \"type\": \"pie\"}], \"scatter\": [{\"marker\": {\"line\": {\"color\": \"#283442\"}}, \"type\": \"scatter\"}], \"scatter3d\": [{\"line\": {\"colorbar\": {\"outlinewidth\": 0, \"ticks\": \"\"}}, \"marker\": {\"colorbar\": {\"outlinewidth\": 0, \"ticks\": \"\"}}, \"type\": \"scatter3d\"}], \"scattercarpet\": [{\"marker\": {\"colorbar\": {\"outlinewidth\": 0, \"ticks\": \"\"}}, \"type\": \"scattercarpet\"}], \"scattergeo\": [{\"marker\": {\"colorbar\": {\"outlinewidth\": 0, \"ticks\": \"\"}}, \"type\": \"scattergeo\"}], \"scattergl\": [{\"marker\": {\"line\": {\"color\": \"#283442\"}}, \"type\": \"scattergl\"}], \"scattermapbox\": [{\"marker\": {\"colorbar\": {\"outlinewidth\": 0, \"ticks\": \"\"}}, \"type\": \"scattermapbox\"}], \"scatterpolar\": [{\"marker\": {\"colorbar\": {\"outlinewidth\": 0, \"ticks\": \"\"}}, \"type\": \"scatterpolar\"}], \"scatterpolargl\": [{\"marker\": {\"colorbar\": {\"outlinewidth\": 0, \"ticks\": \"\"}}, \"type\": \"scatterpolargl\"}], \"scatterternary\": [{\"marker\": {\"colorbar\": {\"outlinewidth\": 0, \"ticks\": \"\"}}, \"type\": \"scatterternary\"}], \"surface\": [{\"colorbar\": {\"outlinewidth\": 0, \"ticks\": \"\"}, \"colorscale\": [[0.0, \"#0d0887\"], [0.1111111111111111, \"#46039f\"], [0.2222222222222222, \"#7201a8\"], [0.3333333333333333, \"#9c179e\"], [0.4444444444444444, \"#bd3786\"], [0.5555555555555556, \"#d8576b\"], [0.6666666666666666, \"#ed7953\"], [0.7777777777777778, \"#fb9f3a\"], [0.8888888888888888, \"#fdca26\"], [1.0, \"#f0f921\"]], \"type\": \"surface\"}], \"table\": [{\"cells\": {\"fill\": {\"color\": \"#506784\"}, \"line\": {\"color\": \"rgb(17,17,17)\"}}, \"header\": {\"fill\": {\"color\": \"#2a3f5f\"}, \"line\": {\"color\": \"rgb(17,17,17)\"}}, \"type\": \"table\"}]}, \"layout\": {\"annotationdefaults\": {\"arrowcolor\": \"#f2f5fa\", \"arrowhead\": 0, \"arrowwidth\": 1}, \"autotypenumbers\": \"strict\", \"coloraxis\": {\"colorbar\": {\"outlinewidth\": 0, \"ticks\": \"\"}}, \"colorscale\": {\"diverging\": [[0, \"#8e0152\"], [0.1, \"#c51b7d\"], [0.2, \"#de77ae\"], [0.3, \"#f1b6da\"], [0.4, \"#fde0ef\"], [0.5, \"#f7f7f7\"], [0.6, \"#e6f5d0\"], [0.7, \"#b8e186\"], [0.8, \"#7fbc41\"], [0.9, \"#4d9221\"], [1, \"#276419\"]], \"sequential\": [[0.0, \"#0d0887\"], [0.1111111111111111, \"#46039f\"], [0.2222222222222222, \"#7201a8\"], [0.3333333333333333, \"#9c179e\"], [0.4444444444444444, \"#bd3786\"], [0.5555555555555556, \"#d8576b\"], [0.6666666666666666, \"#ed7953\"], [0.7777777777777778, \"#fb9f3a\"], [0.8888888888888888, \"#fdca26\"], [1.0, \"#f0f921\"]], \"sequentialminus\": [[0.0, \"#0d0887\"], [0.1111111111111111, \"#46039f\"], [0.2222222222222222, \"#7201a8\"], [0.3333333333333333, \"#9c179e\"], [0.4444444444444444, \"#bd3786\"], [0.5555555555555556, \"#d8576b\"], [0.6666666666666666, \"#ed7953\"], [0.7777777777777778, \"#fb9f3a\"], [0.8888888888888888, \"#fdca26\"], [1.0, \"#f0f921\"]]}, \"colorway\": [\"#636efa\", \"#EF553B\", \"#00cc96\", \"#ab63fa\", \"#FFA15A\", \"#19d3f3\", \"#FF6692\", \"#B6E880\", \"#FF97FF\", \"#FECB52\"], \"font\": {\"color\": \"#f2f5fa\"}, \"geo\": {\"bgcolor\": \"rgb(17,17,17)\", \"lakecolor\": \"rgb(17,17,17)\", \"landcolor\": \"rgb(17,17,17)\", \"showlakes\": true, \"showland\": true, \"subunitcolor\": \"#506784\"}, \"hoverlabel\": {\"align\": \"left\"}, \"hovermode\": \"closest\", \"mapbox\": {\"style\": \"dark\"}, \"paper_bgcolor\": \"rgb(17,17,17)\", \"plot_bgcolor\": \"rgb(17,17,17)\", \"polar\": {\"angularaxis\": {\"gridcolor\": \"#506784\", \"linecolor\": \"#506784\", \"ticks\": \"\"}, \"bgcolor\": \"rgb(17,17,17)\", \"radialaxis\": {\"gridcolor\": \"#506784\", \"linecolor\": \"#506784\", \"ticks\": \"\"}}, \"scene\": {\"xaxis\": {\"backgroundcolor\": \"rgb(17,17,17)\", \"gridcolor\": \"#506784\", \"gridwidth\": 2, \"linecolor\": \"#506784\", \"showbackground\": true, \"ticks\": \"\", \"zerolinecolor\": \"#C8D4E3\"}, \"yaxis\": {\"backgroundcolor\": \"rgb(17,17,17)\", \"gridcolor\": \"#506784\", \"gridwidth\": 2, \"linecolor\": \"#506784\", \"showbackground\": true, \"ticks\": \"\", \"zerolinecolor\": \"#C8D4E3\"}, \"zaxis\": {\"backgroundcolor\": \"rgb(17,17,17)\", \"gridcolor\": \"#506784\", \"gridwidth\": 2, \"linecolor\": \"#506784\", \"showbackground\": true, \"ticks\": \"\", \"zerolinecolor\": \"#C8D4E3\"}}, \"shapedefaults\": {\"line\": {\"color\": \"#f2f5fa\"}}, \"sliderdefaults\": {\"bgcolor\": \"#C8D4E3\", \"bordercolor\": \"rgb(17,17,17)\", \"borderwidth\": 1, \"tickwidth\": 0}, \"ternary\": {\"aaxis\": {\"gridcolor\": \"#506784\", \"linecolor\": \"#506784\", \"ticks\": \"\"}, \"baxis\": {\"gridcolor\": \"#506784\", \"linecolor\": \"#506784\", \"ticks\": \"\"}, \"bgcolor\": \"rgb(17,17,17)\", \"caxis\": {\"gridcolor\": \"#506784\", \"linecolor\": \"#506784\", \"ticks\": \"\"}}, \"title\": {\"x\": 0.05}, \"updatemenudefaults\": {\"bgcolor\": \"#506784\", \"borderwidth\": 0}, \"xaxis\": {\"automargin\": true, \"gridcolor\": \"#283442\", \"linecolor\": \"#506784\", \"ticks\": \"\", \"title\": {\"standoff\": 15}, \"zerolinecolor\": \"#283442\", \"zerolinewidth\": 2}, \"yaxis\": {\"automargin\": true, \"gridcolor\": \"#283442\", \"linecolor\": \"#506784\", \"ticks\": \"\", \"title\": {\"standoff\": 15}, \"zerolinecolor\": \"#283442\", \"zerolinewidth\": 2}}}, \"title\": {\"text\": \"Cluster Analysis\"}, \"width\": 600},                        {\"responsive\": true}                    ).then(function(){\n",
       "                            \n",
       "var gd = document.getElementById('fe084c72-48aa-4fec-96ce-c2a688dcc0c4');\n",
       "var x = new MutationObserver(function (mutations, observer) {{\n",
       "        var display = window.getComputedStyle(gd).display;\n",
       "        if (!display || display === 'none') {{\n",
       "            console.log([gd, 'removed!']);\n",
       "            Plotly.purge(gd);\n",
       "            observer.disconnect();\n",
       "        }}\n",
       "}});\n",
       "\n",
       "// Listen for the removal of the full notebook cells\n",
       "var notebookContainer = gd.closest('#notebook-container');\n",
       "if (notebookContainer) {{\n",
       "    x.observe(notebookContainer, {childList: true});\n",
       "}}\n",
       "\n",
       "// Listen for the clearing of the current output cell\n",
       "var outputEl = gd.closest('.output');\n",
       "if (outputEl) {{\n",
       "    x.observe(outputEl, {childList: true});\n",
       "}}\n",
       "\n",
       "                        })                };                });            </script>        </div>"
      ]
     },
     "metadata": {},
     "output_type": "display_data"
    }
   ],
   "source": [
    "fig = go.Figure()\n",
    "\n",
    "for cluster in np.unique(clusters):\n",
    "    radii = df_normalized.loc[df_normalized.cluster_kpca_cos==cluster,\n",
    "                             features].mean().tolist()\n",
    "    \n",
    "    thetas = features\n",
    "    \n",
    "    actual_values = df.loc[df.cluster_kpca_cos==cluster, features].mean().tolist()\n",
    "    \n",
    "    cluster_size = len(df[df.cluster_kpca_cos==cluster])\n",
    "    \n",
    "    fig.add_trace(\n",
    "        go.Scatterpolar(\n",
    "            r = radii+[radii[0]], \n",
    "            theta=thetas+[thetas[0]], \n",
    "            mode='lines',\n",
    "            name=f'Cluster {cluster}',\n",
    "            text=[f'Mean value: {x}' for x in actual_values+[actual_values[0]]],\n",
    "            opacity=np.max([0.6, cluster_size/biggest_cluster])\n",
    "            #line=dict(width=np.max([1, 4*cluster_size/biggest_cluster]))\n",
    "        )\n",
    "    )\n",
    "\n",
    "fig.update_layout(\n",
    "    title='Cluster Analysis',\n",
    "    template='plotly_dark',\n",
    "    width=600,\n",
    "    autosize=False)\n",
    "    \n",
    "fig.show()"
   ]
  },
  {
   "cell_type": "code",
   "execution_count": 23,
   "metadata": {},
   "outputs": [],
   "source": [
    "fig.write_html('Interactive Custer Analysis.html')"
   ]
  }
 ],
 "metadata": {
  "kernelspec": {
   "display_name": "Python 3",
   "language": "python",
   "name": "python3"
  },
  "language_info": {
   "codemirror_mode": {
    "name": "ipython",
    "version": 3
   },
   "file_extension": ".py",
   "mimetype": "text/x-python",
   "name": "python",
   "nbconvert_exporter": "python",
   "pygments_lexer": "ipython3",
   "version": "3.8.5"
  }
 },
 "nbformat": 4,
 "nbformat_minor": 4
}
